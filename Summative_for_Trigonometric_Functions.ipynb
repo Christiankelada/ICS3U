{
  "nbformat": 4,
  "nbformat_minor": 0,
  "metadata": {
    "colab": {
      "provenance": []
    },
    "kernelspec": {
      "name": "python3",
      "display_name": "Python 3"
    },
    "language_info": {
      "name": "python"
    }
  },
  "cells": [
    {
      "cell_type": "code",
      "execution_count": null,
      "metadata": {
        "id": "2nXcVS_FMwCz"
      },
      "outputs": [],
      "source": [
        "#Summative for Trigonometric Functions\n"
      ]
    },
    {
      "cell_type": "code",
      "source": [
        "python\n",
        "import numpy as np\n",
        "import matplotlib.pyplot as plt\n",
        "\n",
        "def plot_trig_function():\n",
        "    # Prompt the user to choose the trigonometric function\n",
        "    trig_function = input(\"Choose a trigonometric function (sin, cos, or tan): \").lower()\n",
        "\n",
        "    # Prompt the user for the range of the x-axis\n",
        "    start = float(input(\"Enter the start of the x-axis range: \"))\n",
        "    end = float(input(\"Enter the end of the x-axis range: \"))\n",
        "\n",
        "    # Generate the x-axis values\n",
        "    x = np.linspace(start, end, 100)\n",
        "\n",
        "    # Plot the selected trigonometric function --Website help\n",
        "    if trig_function == 'sin':\n",
        "        y = np.sin(x)\n",
        "    elif trig_function == 'cos':\n",
        "        y = np.cos(x)\n",
        "    elif trig_function == 'tan':\n",
        "        y = np.tan(x)\n",
        "    else:\n",
        "        print(\"Invalid input. Please choose sin, cos, or tan.\")---Website help\n",
        "    if trig_function == 'sin':\n",
        "        return\n",
        "\n",
        "    # Create the plot\n",
        "    plt.figure(figsize=(8, 6))\n",
        "    plt.plot(x, y)\n",
        "    plt.xlabel('x')\n",
        "    plt.ylabel(trig_function + '(x)')\n",
        "    plt.title(f'Plot of {trig_function}(x)')\n",
        "    plt.grid()\n",
        "    plt.show()\n",
        "\n",
        "if __name__ == \"__main__\":\n",
        "    plot_trig_function()\n"
      ],
      "metadata": {
        "id": "TDHAxImNMyXs"
      },
      "execution_count": null,
      "outputs": []
    }
  ]
}